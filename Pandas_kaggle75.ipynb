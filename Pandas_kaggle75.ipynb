{
 "cells": [
  {
   "cell_type": "markdown",
   "id": "b295395b",
   "metadata": {},
   "source": [
    "# Pandas 75 Exercises\n",
    "from [kaggle](https://www.kaggle.com/code/tangchengshun/pandas-75-exercises-with-solutions)\n"
   ]
  },
  {
   "cell_type": "code",
   "execution_count": 1,
   "id": "a0895ee3",
   "metadata": {
    "collapsed": true
   },
   "outputs": [
    {
     "name": "stdout",
     "output_type": "stream",
     "text": [
      "1.4.2\n"
     ]
    }
   ],
   "source": [
    "# 1. Import pandas and show version\n",
    "import pandas as pd\n",
    "print(pd.__version__)"
   ]
  },
  {
   "cell_type": "code",
   "execution_count": 2,
   "id": "dfaa326a",
   "metadata": {
    "collapsed": true
   },
   "outputs": [],
   "source": [
    "# 2. Create a series from a list, numpy and dict\n",
    "import numpy as np\n",
    "a_list = list(\"abcdegfg\")\n",
    "numpy_array = np.arange(1,10)\n",
    "dictionary = {\"A\":0,\"B\":1,\"C\":2}"
   ]
  },
  {
   "cell_type": "code",
   "execution_count": 5,
   "id": "9d8aeab7",
   "metadata": {
    "collapsed": true
   },
   "outputs": [
    {
     "name": "stdout",
     "output_type": "stream",
     "text": [
      "A    0\n",
      "B    1\n",
      "C    2\n",
      "dtype: int64\n"
     ]
    }
   ],
   "source": [
    "s1 = pd.Series(a_list)\n",
    "s2 = pd.Series(numpy_array)\n",
    "s3 = pd.Series(dictionary)\n",
    "print(s3)"
   ]
  },
  {
   "cell_type": "code",
   "execution_count": 25,
   "id": "beb25575",
   "metadata": {
    "collapsed": true
   },
   "outputs": [
    {
     "data": {
      "text/html": [
       "<div>\n",
       "<style scoped>\n",
       "    .dataframe tbody tr th:only-of-type {\n",
       "        vertical-align: middle;\n",
       "    }\n",
       "\n",
       "    .dataframe tbody tr th {\n",
       "        vertical-align: top;\n",
       "    }\n",
       "\n",
       "    .dataframe thead th {\n",
       "        text-align: right;\n",
       "    }\n",
       "</style>\n",
       "<table border=\"1\" class=\"dataframe\">\n",
       "  <thead>\n",
       "    <tr style=\"text-align: right;\">\n",
       "      <th></th>\n",
       "      <th>index</th>\n",
       "      <th>0</th>\n",
       "    </tr>\n",
       "  </thead>\n",
       "  <tbody>\n",
       "    <tr>\n",
       "      <th>0</th>\n",
       "      <td>a</td>\n",
       "      <td>0</td>\n",
       "    </tr>\n",
       "    <tr>\n",
       "      <th>1</th>\n",
       "      <td>b</td>\n",
       "      <td>1</td>\n",
       "    </tr>\n",
       "    <tr>\n",
       "      <th>2</th>\n",
       "      <td>c</td>\n",
       "      <td>2</td>\n",
       "    </tr>\n",
       "    <tr>\n",
       "      <th>3</th>\n",
       "      <td>d</td>\n",
       "      <td>3</td>\n",
       "    </tr>\n",
       "    <tr>\n",
       "      <th>4</th>\n",
       "      <td>e</td>\n",
       "      <td>4</td>\n",
       "    </tr>\n",
       "    <tr>\n",
       "      <th>5</th>\n",
       "      <td>f</td>\n",
       "      <td>5</td>\n",
       "    </tr>\n",
       "    <tr>\n",
       "      <th>6</th>\n",
       "      <td>g</td>\n",
       "      <td>6</td>\n",
       "    </tr>\n",
       "    <tr>\n",
       "      <th>7</th>\n",
       "      <td>h</td>\n",
       "      <td>7</td>\n",
       "    </tr>\n",
       "    <tr>\n",
       "      <th>8</th>\n",
       "      <td>i</td>\n",
       "      <td>8</td>\n",
       "    </tr>\n",
       "    <tr>\n",
       "      <th>9</th>\n",
       "      <td>j</td>\n",
       "      <td>9</td>\n",
       "    </tr>\n",
       "    <tr>\n",
       "      <th>10</th>\n",
       "      <td>k</td>\n",
       "      <td>10</td>\n",
       "    </tr>\n",
       "    <tr>\n",
       "      <th>11</th>\n",
       "      <td>l</td>\n",
       "      <td>11</td>\n",
       "    </tr>\n",
       "    <tr>\n",
       "      <th>12</th>\n",
       "      <td>m</td>\n",
       "      <td>12</td>\n",
       "    </tr>\n",
       "    <tr>\n",
       "      <th>13</th>\n",
       "      <td>n</td>\n",
       "      <td>13</td>\n",
       "    </tr>\n",
       "    <tr>\n",
       "      <th>14</th>\n",
       "      <td>o</td>\n",
       "      <td>14</td>\n",
       "    </tr>\n",
       "    <tr>\n",
       "      <th>15</th>\n",
       "      <td>p</td>\n",
       "      <td>15</td>\n",
       "    </tr>\n",
       "    <tr>\n",
       "      <th>16</th>\n",
       "      <td>q</td>\n",
       "      <td>16</td>\n",
       "    </tr>\n",
       "    <tr>\n",
       "      <th>17</th>\n",
       "      <td>r</td>\n",
       "      <td>17</td>\n",
       "    </tr>\n",
       "    <tr>\n",
       "      <th>18</th>\n",
       "      <td>s</td>\n",
       "      <td>18</td>\n",
       "    </tr>\n",
       "    <tr>\n",
       "      <th>19</th>\n",
       "      <td>t</td>\n",
       "      <td>19</td>\n",
       "    </tr>\n",
       "    <tr>\n",
       "      <th>20</th>\n",
       "      <td>u</td>\n",
       "      <td>20</td>\n",
       "    </tr>\n",
       "    <tr>\n",
       "      <th>21</th>\n",
       "      <td>v</td>\n",
       "      <td>21</td>\n",
       "    </tr>\n",
       "    <tr>\n",
       "      <th>22</th>\n",
       "      <td>w</td>\n",
       "      <td>22</td>\n",
       "    </tr>\n",
       "    <tr>\n",
       "      <th>23</th>\n",
       "      <td>x</td>\n",
       "      <td>23</td>\n",
       "    </tr>\n",
       "    <tr>\n",
       "      <th>24</th>\n",
       "      <td>y</td>\n",
       "      <td>24</td>\n",
       "    </tr>\n",
       "    <tr>\n",
       "      <th>25</th>\n",
       "      <td>z</td>\n",
       "      <td>25</td>\n",
       "    </tr>\n",
       "  </tbody>\n",
       "</table>\n",
       "</div>"
      ],
      "text/plain": [
       "   index   0\n",
       "0      a   0\n",
       "1      b   1\n",
       "2      c   2\n",
       "3      d   3\n",
       "4      e   4\n",
       "5      f   5\n",
       "6      g   6\n",
       "7      h   7\n",
       "8      i   8\n",
       "9      j   9\n",
       "10     k  10\n",
       "11     l  11\n",
       "12     m  12\n",
       "13     n  13\n",
       "14     o  14\n",
       "15     p  15\n",
       "16     q  16\n",
       "17     r  17\n",
       "18     s  18\n",
       "19     t  19\n",
       "20     u  20\n",
       "21     v  21\n",
       "22     w  22\n",
       "23     x  23\n",
       "24     y  24\n",
       "25     z  25"
      ]
     },
     "execution_count": 25,
     "metadata": {},
     "output_type": "execute_result"
    }
   ],
   "source": [
    "# 3. Convert series intro dataframe with its index as a column\n",
    "import string\n",
    "mylist = list(string.ascii_lowercase)\n",
    "myarr = np.arange(26)\n",
    "mydict = dict(zip(mylist,myarr))\n",
    "ser = pd.Series(mydict)\n",
    "\n",
    "\n",
    "# Solution 1\n",
    "ser_df = pd.DataFrame(ser) # now the original index is kept\n",
    "ser_df.reset_index()\n",
    "# does not work\n",
    "# ser_df\n",
    "# Solution 2\n",
    "ser_df2 = ser.to_frame().reset_index()\n",
    "ser_df2"
   ]
  },
  {
   "cell_type": "code",
   "execution_count": 38,
   "id": "71818658",
   "metadata": {
    "collapsed": true
   },
   "outputs": [
    {
     "data": {
      "text/html": [
       "<div>\n",
       "<style scoped>\n",
       "    .dataframe tbody tr th:only-of-type {\n",
       "        vertical-align: middle;\n",
       "    }\n",
       "\n",
       "    .dataframe tbody tr th {\n",
       "        vertical-align: top;\n",
       "    }\n",
       "\n",
       "    .dataframe thead th {\n",
       "        text-align: right;\n",
       "    }\n",
       "</style>\n",
       "<table border=\"1\" class=\"dataframe\">\n",
       "  <thead>\n",
       "    <tr style=\"text-align: right;\">\n",
       "      <th></th>\n",
       "      <th>0</th>\n",
       "      <th>1</th>\n",
       "    </tr>\n",
       "  </thead>\n",
       "  <tbody>\n",
       "    <tr>\n",
       "      <th>0</th>\n",
       "      <td>a</td>\n",
       "      <td>0</td>\n",
       "    </tr>\n",
       "    <tr>\n",
       "      <th>1</th>\n",
       "      <td>b</td>\n",
       "      <td>1</td>\n",
       "    </tr>\n",
       "    <tr>\n",
       "      <th>2</th>\n",
       "      <td>c</td>\n",
       "      <td>2</td>\n",
       "    </tr>\n",
       "    <tr>\n",
       "      <th>3</th>\n",
       "      <td>d</td>\n",
       "      <td>3</td>\n",
       "    </tr>\n",
       "    <tr>\n",
       "      <th>4</th>\n",
       "      <td>e</td>\n",
       "      <td>4</td>\n",
       "    </tr>\n",
       "  </tbody>\n",
       "</table>\n",
       "</div>"
      ],
      "text/plain": [
       "   0  1\n",
       "0  a  0\n",
       "1  b  1\n",
       "2  c  2\n",
       "3  d  3\n",
       "4  e  4"
      ]
     },
     "execution_count": 38,
     "metadata": {},
     "output_type": "execute_result"
    }
   ],
   "source": [
    "# 4. Combine series into dataframe\n",
    "ser1 = pd.Series(list(string.ascii_lowercase))\n",
    "ser2 = pd.Series(np.arange(len(ser1)))\n",
    "\n",
    "# 1. using datafram\n",
    "ser_df1 = pd.DataFrame(ser1, ser2).reset_index()\n",
    "\n",
    "# 2. using a dictionary for the column names\n",
    "ser_df2 = pd.DataFrame({'col1':ser1,'col2':ser2})\n",
    "ser_df2.head()\n",
    "# 3. using concat\n",
    "ser_df3 = pd.concat([ser1,ser2],axis=1)\n",
    "ser_df3.head()"
   ]
  },
  {
   "cell_type": "code",
   "execution_count": 46,
   "id": "a329f8d7",
   "metadata": {
    "collapsed": true
   },
   "outputs": [],
   "source": [
    "# 5. Name an index\n",
    "ser = pd.Series(list(string.ascii_lowercase))\n",
    "#ser.rename(\"lower\")\n",
    "ser.name = \"lower_other\"\n"
   ]
  },
  {
   "cell_type": "code",
   "execution_count": 51,
   "id": "aa7f5eed",
   "metadata": {
    "collapsed": true
   },
   "outputs": [
    {
     "data": {
      "text/plain": [
       "0    1\n",
       "1    2\n",
       "2    3\n",
       "dtype: int64"
      ]
     },
     "execution_count": 51,
     "metadata": {},
     "output_type": "execute_result"
    }
   ],
   "source": [
    "# 6. get items in A not in B\n",
    "sera = pd.Series([1,2,3,4,5])\n",
    "serb = pd.Series([4,5,6,7,8])\n",
    "\n",
    "# Solution\n",
    "sera[~sera.isin(serb)]"
   ]
  },
  {
   "cell_type": "code",
   "execution_count": 64,
   "id": "3dcbd045",
   "metadata": {
    "collapsed": true
   },
   "outputs": [
    {
     "data": {
      "text/plain": [
       "0    1\n",
       "1    2\n",
       "2    3\n",
       "5    6\n",
       "6    7\n",
       "7    8\n",
       "dtype: int64"
      ]
     },
     "execution_count": 64,
     "metadata": {},
     "output_type": "execute_result"
    }
   ],
   "source": [
    "#7. items not common to both A and B \n",
    "sera = pd.Series([1,2,3,4,5])\n",
    "serb = pd.Series([4,5,6,7,8])\n",
    "\n",
    "# using pandas\n",
    "a_not_b = sera[~sera.isin(serb)]\n",
    "b_not_a = serb[~serb.isin(sera)]\n",
    "\n",
    "pd.concat([a_not_b,b_not_a],ignore_index=True) # ignore index creates a new index\n",
    "\n",
    "# using numpy union and intersetion ()\n",
    "ser_u = pd.Series(np.union1d(sera,serb))\n",
    "ser_i = pd.Series(np.intersect1d(sera,serb))\n",
    "ser_u[~ser_u.isin(ser_i)]"
   ]
  },
  {
   "cell_type": "code",
   "execution_count": 70,
   "id": "35a50eb2",
   "metadata": {
    "collapsed": true
   },
   "outputs": [],
   "source": [
    "# 8. Get statistical data of numeric series\n",
    "state = np.random.RandomState(100)\n",
    "ser = pd.Series(state.normal(loc = 10, scale = 5, size = 25))"
   ]
  },
  {
   "cell_type": "code",
   "execution_count": 71,
   "id": "0d3fc6ac",
   "metadata": {
    "collapsed": true
   },
   "outputs": [
    {
     "data": {
      "text/plain": [
       "count    25.000000\n",
       "mean     10.435437\n",
       "std       4.253118\n",
       "min       1.251173\n",
       "25%       7.709865\n",
       "50%      10.922593\n",
       "75%      13.363604\n",
       "max      18.094908\n",
       "dtype: float64"
      ]
     },
     "execution_count": 71,
     "metadata": {},
     "output_type": "execute_result"
    }
   ],
   "source": [
    "# using pandas\n",
    "ser.describe()"
   ]
  },
  {
   "cell_type": "code",
   "execution_count": 72,
   "id": "bce26dfe",
   "metadata": {
    "collapsed": true
   },
   "outputs": [
    {
     "data": {
      "text/plain": [
       "array([ 1.25117263,  7.70986507, 10.92259345, 13.36360403, 18.0949083 ])"
      ]
     },
     "execution_count": 72,
     "metadata": {},
     "output_type": "execute_result"
    }
   ],
   "source": [
    "# using numpy\n",
    "np.percentile(ser, q = [0,25,50,75,100])"
   ]
  },
  {
   "cell_type": "code",
   "execution_count": 81,
   "id": "058c6081",
   "metadata": {
    "collapsed": true
   },
   "outputs": [
    {
     "data": {
      "text/plain": [
       "p    412\n",
       "b    410\n",
       "y    408\n",
       "n    401\n",
       "z    400\n",
       "k    400\n",
       "s    397\n",
       "w    396\n",
       "g    392\n",
       "c    391\n",
       "i    391\n",
       "o    390\n",
       "j    389\n",
       "v    389\n",
       "r    381\n",
       "h    380\n",
       "e    378\n",
       "t    378\n",
       "m    377\n",
       "a    374\n",
       "f    374\n",
       "l    374\n",
       "x    368\n",
       "q    365\n",
       "d    343\n",
       "u    342\n",
       "dtype: int64"
      ]
     },
     "execution_count": 81,
     "metadata": {},
     "output_type": "execute_result"
    }
   ],
   "source": [
    "# 9.Frequency counts of uniqe items\n",
    "ser = pd.Series(\n",
    "        np.take(list(string.ascii_lowercase),\n",
    "                np.random.randint(len(string.ascii_lowercase),size=10000))\n",
    "        )\n",
    "ser.value_counts()\n"
   ]
  },
  {
   "cell_type": "code",
   "execution_count": 82,
   "id": "d9aca5d5",
   "metadata": {
    "collapsed": true
   },
   "outputs": [],
   "source": [
    "# 10. Keep only the two most frequent values\n",
    "np.random.RandomState(100)\n",
    "ser = pd.Series(np.random.randint(1,100,size=1000))"
   ]
  },
  {
   "cell_type": "code",
   "execution_count": 90,
   "id": "0d6a5311",
   "metadata": {
    "collapsed": true
   },
   "outputs": [],
   "source": [
    "ser[~ser.isin(ser.value_counts().index[:2])] = 'Other'"
   ]
  },
  {
   "cell_type": "code",
   "execution_count": 94,
   "id": "3b56ec23",
   "metadata": {
    "collapsed": true
   },
   "outputs": [
    {
     "data": {
      "text/plain": [
       "50    Other\n",
       "51    Other\n",
       "52    Other\n",
       "53    Other\n",
       "54    Other\n",
       "55    Other\n",
       "56    Other\n",
       "57    Other\n",
       "58    Other\n",
       "59    Other\n",
       "60    Other\n",
       "61    Other\n",
       "62    Other\n",
       "63       55\n",
       "64       55\n",
       "65    Other\n",
       "66    Other\n",
       "67    Other\n",
       "68    Other\n",
       "69    Other\n",
       "70    Other\n",
       "71    Other\n",
       "72    Other\n",
       "73    Other\n",
       "74    Other\n",
       "75    Other\n",
       "76    Other\n",
       "77    Other\n",
       "78    Other\n",
       "79    Other\n",
       "80    Other\n",
       "81    Other\n",
       "82    Other\n",
       "83    Other\n",
       "84    Other\n",
       "85    Other\n",
       "86    Other\n",
       "87    Other\n",
       "88    Other\n",
       "89    Other\n",
       "90    Other\n",
       "91    Other\n",
       "92    Other\n",
       "93    Other\n",
       "94    Other\n",
       "95       55\n",
       "96    Other\n",
       "97    Other\n",
       "98    Other\n",
       "99    Other\n",
       "dtype: object"
      ]
     },
     "execution_count": 94,
     "metadata": {},
     "output_type": "execute_result"
    }
   ],
   "source": [
    "ser.iloc[50:100]"
   ]
  },
  {
   "cell_type": "code",
   "execution_count": 100,
   "id": "660fe4db",
   "metadata": {},
   "outputs": [
    {
     "data": {
      "text/plain": [
       "0     0.852507\n",
       "1     0.703631\n",
       "2     0.055911\n",
       "3     0.147442\n",
       "4     0.093127\n",
       "5     0.749413\n",
       "6     0.260006\n",
       "7     0.502955\n",
       "8     0.242999\n",
       "9     0.148208\n",
       "10    0.554374\n",
       "11    0.959612\n",
       "12    0.979462\n",
       "13    0.499900\n",
       "14    0.713769\n",
       "15    0.024184\n",
       "16    0.667826\n",
       "17    0.794212\n",
       "18    0.676324\n",
       "19    0.919984\n",
       "dtype: float64"
      ]
     },
     "execution_count": 100,
     "metadata": {},
     "output_type": "execute_result"
    }
   ],
   "source": [
    "# 11. Bin series into groups of equal size\n",
    "ser = pd.Series(np.random.random(size = 20))\n",
    "ser"
   ]
  },
  {
   "cell_type": "code",
   "execution_count": 111,
   "id": "2ea78617",
   "metadata": {},
   "outputs": [
    {
     "data": {
      "text/plain": [
       "0      9th\n",
       "1      7th\n",
       "2      1st\n",
       "3      2nd\n",
       "4      2nd\n",
       "5      8th\n",
       "6      4th\n",
       "7      5th\n",
       "8      3rd\n",
       "9      3rd\n",
       "10     5th\n",
       "11    10th\n",
       "12    10th\n",
       "13     4th\n",
       "14     7th\n",
       "15     1st\n",
       "16     6th\n",
       "17     8th\n",
       "18     6th\n",
       "19     9th\n",
       "dtype: category\n",
       "Categories (10, object): ['1st' < '2nd' < '3rd' < '4th' ... '7th' < '8th' < '9th' < '10th']"
      ]
     },
     "execution_count": 111,
     "metadata": {},
     "output_type": "execute_result"
    }
   ],
   "source": [
    "pd.qcut(ser,q=10)\n",
    "# pass labels to bins\n",
    "labels = ['1st','2nd','3rd']\n",
    "labels.extend([str(i)+'th' for i in range(4,11)])\n",
    "pd.qcut(ser,q=10,labels=labels)"
   ]
  },
  {
   "cell_type": "code",
   "execution_count": 112,
   "id": "a1e25ad1",
   "metadata": {},
   "outputs": [],
   "source": [
    "# 12. Numpy to Pandas with reshape\n",
    "ser = pd.Series(np.random.randint(1,10,35))"
   ]
  },
  {
   "cell_type": "code",
   "execution_count": 115,
   "id": "965e8637",
   "metadata": {},
   "outputs": [
    {
     "data": {
      "text/html": [
       "<div>\n",
       "<style scoped>\n",
       "    .dataframe tbody tr th:only-of-type {\n",
       "        vertical-align: middle;\n",
       "    }\n",
       "\n",
       "    .dataframe tbody tr th {\n",
       "        vertical-align: top;\n",
       "    }\n",
       "\n",
       "    .dataframe thead th {\n",
       "        text-align: right;\n",
       "    }\n",
       "</style>\n",
       "<table border=\"1\" class=\"dataframe\">\n",
       "  <thead>\n",
       "    <tr style=\"text-align: right;\">\n",
       "      <th></th>\n",
       "      <th>0</th>\n",
       "      <th>1</th>\n",
       "      <th>2</th>\n",
       "      <th>3</th>\n",
       "      <th>4</th>\n",
       "    </tr>\n",
       "  </thead>\n",
       "  <tbody>\n",
       "    <tr>\n",
       "      <th>0</th>\n",
       "      <td>4</td>\n",
       "      <td>7</td>\n",
       "      <td>3</td>\n",
       "      <td>9</td>\n",
       "      <td>8</td>\n",
       "    </tr>\n",
       "    <tr>\n",
       "      <th>1</th>\n",
       "      <td>8</td>\n",
       "      <td>8</td>\n",
       "      <td>9</td>\n",
       "      <td>4</td>\n",
       "      <td>3</td>\n",
       "    </tr>\n",
       "    <tr>\n",
       "      <th>2</th>\n",
       "      <td>4</td>\n",
       "      <td>1</td>\n",
       "      <td>3</td>\n",
       "      <td>5</td>\n",
       "      <td>5</td>\n",
       "    </tr>\n",
       "    <tr>\n",
       "      <th>3</th>\n",
       "      <td>4</td>\n",
       "      <td>8</td>\n",
       "      <td>5</td>\n",
       "      <td>7</td>\n",
       "      <td>6</td>\n",
       "    </tr>\n",
       "    <tr>\n",
       "      <th>4</th>\n",
       "      <td>9</td>\n",
       "      <td>7</td>\n",
       "      <td>6</td>\n",
       "      <td>7</td>\n",
       "      <td>4</td>\n",
       "    </tr>\n",
       "    <tr>\n",
       "      <th>5</th>\n",
       "      <td>4</td>\n",
       "      <td>8</td>\n",
       "      <td>7</td>\n",
       "      <td>2</td>\n",
       "      <td>5</td>\n",
       "    </tr>\n",
       "    <tr>\n",
       "      <th>6</th>\n",
       "      <td>2</td>\n",
       "      <td>6</td>\n",
       "      <td>7</td>\n",
       "      <td>1</td>\n",
       "      <td>9</td>\n",
       "    </tr>\n",
       "  </tbody>\n",
       "</table>\n",
       "</div>"
      ],
      "text/plain": [
       "   0  1  2  3  4\n",
       "0  4  7  3  9  8\n",
       "1  8  8  9  4  3\n",
       "2  4  1  3  5  5\n",
       "3  4  8  5  7  6\n",
       "4  9  7  6  7  4\n",
       "5  4  8  7  2  5\n",
       "6  2  6  7  1  9"
      ]
     },
     "execution_count": 115,
     "metadata": {},
     "output_type": "execute_result"
    }
   ],
   "source": [
    "# using np\n",
    "pd.DataFrame(np.array(ser).reshape(7,-1))\n",
    "# using only pd\n",
    "pd.DataFrame(ser.values.reshape(7,-1))"
   ]
  },
  {
   "cell_type": "code",
   "execution_count": 148,
   "id": "d3b5c9ec",
   "metadata": {},
   "outputs": [],
   "source": [
    "# 13. find multiples of 3 in a series\n",
    "np.random.RandomState(100)\n",
    "ser = pd.Series(np.random.randint(1, 5, 10))"
   ]
  },
  {
   "cell_type": "code",
   "execution_count": 149,
   "id": "979f03dc",
   "metadata": {},
   "outputs": [
    {
     "data": {
      "text/plain": [
       "0    4\n",
       "1    4\n",
       "2    3\n",
       "3    2\n",
       "4    1\n",
       "5    4\n",
       "6    4\n",
       "7    4\n",
       "8    2\n",
       "9    4\n",
       "dtype: int32"
      ]
     },
     "execution_count": 149,
     "metadata": {},
     "output_type": "execute_result"
    }
   ],
   "source": [
    "ser"
   ]
  },
  {
   "cell_type": "code",
   "execution_count": 150,
   "id": "a2884385",
   "metadata": {},
   "outputs": [
    {
     "data": {
      "text/plain": [
       "2    3.0\n",
       "dtype: float64"
      ]
     },
     "execution_count": 150,
     "metadata": {},
     "output_type": "execute_result"
    }
   ],
   "source": [
    "# using where\n",
    "ser.where(lambda x:x%3 == 0).dropna()\n",
    "\n"
   ]
  },
  {
   "cell_type": "code",
   "execution_count": 155,
   "id": "251e27bc",
   "metadata": {},
   "outputs": [
    {
     "data": {
      "text/plain": [
       "0     a\n",
       "4     e\n",
       "8     i\n",
       "14    o\n",
       "20    u\n",
       "dtype: object"
      ]
     },
     "execution_count": 155,
     "metadata": {},
     "output_type": "execute_result"
    }
   ],
   "source": [
    "# 14. Extract items from given positions\n",
    "ser = pd.Series(list(string.ascii_lowercase))\n",
    "pos =[0,4,8,14,20]\n",
    "ser.loc[pos]\n"
   ]
  },
  {
   "cell_type": "code",
   "execution_count": 156,
   "id": "eda828eb",
   "metadata": {},
   "outputs": [
    {
     "data": {
      "text/plain": [
       "0     a\n",
       "4     e\n",
       "8     i\n",
       "14    o\n",
       "20    u\n",
       "dtype: object"
      ]
     },
     "execution_count": 156,
     "metadata": {},
     "output_type": "execute_result"
    }
   ],
   "source": [
    "ser.take(pos)"
   ]
  },
  {
   "cell_type": "code",
   "execution_count": 163,
   "id": "b01ea0c9",
   "metadata": {},
   "outputs": [
    {
     "data": {
      "text/plain": [
       "0    0\n",
       "1    1\n",
       "2    2\n",
       "3    3\n",
       "4    4\n",
       "dtype: object"
      ]
     },
     "execution_count": 163,
     "metadata": {},
     "output_type": "execute_result"
    }
   ],
   "source": [
    "# 15. stack 2 series vertically and horizontally\n",
    "ser1 = pd.Series(range(5))\n",
    "ser2 = pd.Series(list('abcde'))\n",
    "\n",
    "# vertical\n",
    "serv = pd.concat([ser1,ser2],axis = 0, ignore_index=False) # returns Series\n"
   ]
  },
  {
   "cell_type": "code",
   "execution_count": 168,
   "id": "db5b25e3",
   "metadata": {},
   "outputs": [
    {
     "data": {
      "text/html": [
       "<div>\n",
       "<style scoped>\n",
       "    .dataframe tbody tr th:only-of-type {\n",
       "        vertical-align: middle;\n",
       "    }\n",
       "\n",
       "    .dataframe tbody tr th {\n",
       "        vertical-align: top;\n",
       "    }\n",
       "\n",
       "    .dataframe thead th {\n",
       "        text-align: right;\n",
       "    }\n",
       "</style>\n",
       "<table border=\"1\" class=\"dataframe\">\n",
       "  <thead>\n",
       "    <tr style=\"text-align: right;\">\n",
       "      <th></th>\n",
       "      <th>0</th>\n",
       "      <th>1</th>\n",
       "    </tr>\n",
       "  </thead>\n",
       "  <tbody>\n",
       "    <tr>\n",
       "      <th>0</th>\n",
       "      <td>0</td>\n",
       "      <td>a</td>\n",
       "    </tr>\n",
       "    <tr>\n",
       "      <th>1</th>\n",
       "      <td>1</td>\n",
       "      <td>b</td>\n",
       "    </tr>\n",
       "    <tr>\n",
       "      <th>2</th>\n",
       "      <td>2</td>\n",
       "      <td>c</td>\n",
       "    </tr>\n",
       "    <tr>\n",
       "      <th>3</th>\n",
       "      <td>3</td>\n",
       "      <td>d</td>\n",
       "    </tr>\n",
       "    <tr>\n",
       "      <th>4</th>\n",
       "      <td>4</td>\n",
       "      <td>e</td>\n",
       "    </tr>\n",
       "  </tbody>\n",
       "</table>\n",
       "</div>"
      ],
      "text/plain": [
       "   0  1\n",
       "0  0  a\n",
       "1  1  b\n",
       "2  2  c\n",
       "3  3  d\n",
       "4  4  e"
      ]
     },
     "execution_count": 168,
     "metadata": {},
     "output_type": "execute_result"
    }
   ],
   "source": [
    "# horizontal\n",
    "serh = pd.concat([ser1,ser2],axis = 1,ignore_index=False)\n",
    "serh"
   ]
  },
  {
   "cell_type": "code",
   "execution_count": null,
   "id": "a8e43d59",
   "metadata": {},
   "outputs": [],
   "source": []
  }
 ],
 "metadata": {
  "kernelspec": {
   "display_name": "Python 3 (ipykernel)",
   "language": "python",
   "name": "python3"
  },
  "language_info": {
   "codemirror_mode": {
    "name": "ipython",
    "version": 3
   },
   "file_extension": ".py",
   "mimetype": "text/x-python",
   "name": "python",
   "nbconvert_exporter": "python",
   "pygments_lexer": "ipython3",
   "version": "3.9.12"
  }
 },
 "nbformat": 4,
 "nbformat_minor": 5
}
